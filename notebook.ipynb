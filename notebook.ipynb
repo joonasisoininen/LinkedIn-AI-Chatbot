{
 "cells": [
  {
   "cell_type": "markdown",
   "metadata": {},
   "source": [
    "\n",
    "In the folder `me` I've put a single file `linkedin.pdf` - it's a PDF download of my LinkedIn profile.\n",
    "\n",
    "Also made a file called `summary.txt`\n",
    "\n",
    "I used the Gradio package for building quick UIs, and also PyPDF PDF reader\n",
    "\n"
   ]
  },
  {
   "cell_type": "code",
   "execution_count": 1,
   "metadata": {},
   "outputs": [],
   "source": [
    "# Package imports\n",
    "\n",
    "from dotenv import load_dotenv\n",
    "from openai import OpenAI\n",
    "from pypdf import PdfReader\n",
    "import gradio as gr"
   ]
  },
  {
   "cell_type": "code",
   "execution_count": 3,
   "metadata": {},
   "outputs": [],
   "source": [
    "load_dotenv(override=True)\n",
    "openai = OpenAI()"
   ]
  },
  {
   "cell_type": "code",
   "execution_count": 4,
   "metadata": {},
   "outputs": [],
   "source": [
    "reader = PdfReader(\"me/linkedin.pdf\")\n",
    "linkedin = \"\"\n",
    "for page in reader.pages:\n",
    "    text = page.extract_text()\n",
    "    if text:\n",
    "        linkedin += text"
   ]
  },
  {
   "cell_type": "code",
   "execution_count": 5,
   "metadata": {},
   "outputs": [
    {
     "name": "stdout",
     "output_type": "stream",
     "text": [
      "   \n",
      "Contact\n",
      "4259225074 (Mobile)\n",
      "jsoI@live.com\n",
      "www.linkedin.com/in/\n",
      "joonasisoininen (LinkedIn)\n",
      "Top Skills\n",
      "Gradio\n",
      "OpenAI API\n",
      "PyPDF\n",
      "Languages\n",
      "Finnish (Native or Bilingual)\n",
      "Spanish (Limited Working)\n",
      "English (Native or Bilingual)\n",
      "Certifications\n",
      "Technical Product Management\n",
      "Managing Project Stakeholders\n",
      "Strategic Communication for\n",
      "Leaders\n",
      "Becoming a Product Manager: A\n",
      "Complete Guide\n",
      "Advanced Prompt Engineering\n",
      "Techniques\n",
      "Joonas Soininen\n",
      "Bridging the gap between Tech, Psychology, and Music\n",
      "Sammamish, Washington, United States\n",
      "Summary\n",
      "Hi i’m Joonas Soininen, I deliver innovative solutions and creative\n",
      "strategies. With a background in project management, marketing,\n",
      "psychology, and software engineering, I make complex challenges\n",
      "into clear, solid products. Always open to connect and collaborate on\n",
      "new opportunities or creative endeavors!\n",
      "Experience\n",
      "DigitalCALA\n",
      "Software Engineer\n",
      "May 2025 - Present (4 months)\n",
      "Mexico City, Mexico\n",
      "Developed and optimized data processing workflows in MediationZone 9.2.1.1,\n",
      "focusing on millions of telecom usage records (UDRs) ensuring reliability,\n",
      "scalability, and modularity.\n",
      "Implemented Advanced Processing Language (APL) scripts to transform, filter,\n",
      "and aggregate usage data across multiple pipelines.\n",
      "Gained experience with UDRs, MIMs, aggregation logic, and custom workflow\n",
      "design, improving efficiency and maintainability.\n",
      "Collaborated with senior engineers to troubleshoot production workflows,\n",
      "validate output accuracy, and enhance performance.\n",
      "Pulsify Collective\n",
      "Co Founder & Marketing Strategist\n",
      "January 2024 - Present (1 year 8 months)\n",
      "Victoria, British Columbia, Canada\n",
      "Developed and executed strategic marketing plans to establish a brand identity\n",
      "and grow an engaged community on social media, achieving measurable\n",
      "engagement and growth metrics.\n",
      "  Page 1 of 3   \n",
      "Managed event budgets effectively, optimizing resource allocation to maximize\n",
      "ROI while maintaining high-quality outcomes.\n",
      "Analyzed campaign performance using data-driven insights, identifying trends\n",
      "and adjusting promotional strategies to meet evolving goals.\n",
      "Collaborated with vendors and partners, ensuring seamless communication\n",
      "and alignment on project deliverables.\n",
      "DigitalCALA\n",
      "Digital Marketing Coordinator\n",
      "May 2024 - October 2024 (6 months)\n",
      "Increased DigitalCALA’s LinkedIn follower count by 3X, by consistently posting\n",
      "product offerings and events.\n",
      "Coordinated marketing activities across multiple time zones, countries, and\n",
      "languages in Caribbean and Latin America.\n",
      "Utilized multiple marketing applications for web and graphic design (Canva,\n",
      "Adobe Illustrator).\n",
      "Sunglass Hut\n",
      "Sales Associate\n",
      "May 2023 - August 2023 (4 months)\n",
      "Bellevue, Washington, United States\n",
      "Provided personalized recommendations and solutions to meet customers'\n",
      "needs and preferences. \n",
      "Cultivated strong rapport and trust with customers through genuine\n",
      "interactions and a focus on building relationships.    \n",
      "Utilized SAP Fiori to efficiently process sales transactions and manage\n",
      "inventory.\n",
      "EllisDon\n",
      "Project Coordinator\n",
      "January 2022 - August 2022 (8 months)\n",
      "Royal Colombian Hospital Project, New Westminster,  British Columbia,\n",
      "Canada\n",
      "  Page 2 of 3   \n",
      "Maintained central project documents updating status of shop drawings, RFI's\n",
      "and project changes.\n",
      "Regularly communicated with consultants, sub contractors, and  field\n",
      "engineers. \n",
      "Tracked daily progress of on site construction. \n",
      "Employed Bluebeam Revu to organize contract documents.\n",
      "Ensured the accuracy and currency of shop drawings.\n",
      "City of Issaquah\n",
      "Parks Operations Landscape Professional (Maintenance Worker,\n",
      "Variable) Parks and Community Services\n",
      "June 2021 - August 2021 (3 months)\n",
      "Issaquah, Washington, United States\n",
      "Planned out and carried out daily/ weekly/ monthly parks maintenance tasks.\n",
      "Coordinated maintenance activities with other team members.\n",
      "Inspected parks for safety measures daily.     \n",
      "Communicated with the public about park operations and services.\n",
      "East King County Soccer Referees Association\n",
      "Soccer Referee\n",
      "2015 - 2018 (3 years)\n",
      "Greater Seattle Area\n",
      "Education\n",
      "University of Victoria\n",
      "Bachelor of Science - BSc, Computer Science and Psychology (Business\n",
      "Minor) · (2020 - April 2026)\n",
      "Eastlake High School\n",
      " · (September 2016 - June 2020)\n",
      "  Page 3 of 3\n"
     ]
    }
   ],
   "source": [
    "print(linkedin)"
   ]
  },
  {
   "cell_type": "code",
   "execution_count": 6,
   "metadata": {},
   "outputs": [],
   "source": [
    "with open(\"me/summary.txt\", \"r\", encoding=\"utf-8\") as f:\n",
    "    summary = f.read()"
   ]
  },
  {
   "cell_type": "code",
   "execution_count": 7,
   "metadata": {},
   "outputs": [],
   "source": [
    "name = \"Joonas Soininen\""
   ]
  },
  {
   "cell_type": "code",
   "execution_count": 8,
   "metadata": {},
   "outputs": [],
   "source": [
    "system_prompt = f\"You are acting as {name}. You are answering questions on {name}'s website, \\\n",
    "particularly questions related to {name}'s career, background, skills and experience. \\\n",
    "Your responsibility is to represent {name} for interactions on the website as faithfully as possible. \\\n",
    "You are given a summary of {name}'s background and LinkedIn profile which you can use to answer questions. \\\n",
    "Be professional and engaging, as if talking to a potential client or future employer who came across the website. \\\n",
    "If you don't know the answer, say so.\"\n",
    "\n",
    "system_prompt += f\"\\n\\n## Summary:\\n{summary}\\n\\n## LinkedIn Profile:\\n{linkedin}\\n\\n\"\n",
    "system_prompt += f\"With this context, please chat with the user, always staying in character as {name}.\"\n"
   ]
  },
  {
   "cell_type": "code",
   "execution_count": 9,
   "metadata": {},
   "outputs": [
    {
     "data": {
      "text/plain": [
       "\"You are acting as Joonas Soininen. You are answering questions on Joonas Soininen's website, particularly questions related to Joonas Soininen's career, background, skills and experience. Your responsibility is to represent Joonas Soininen for interactions on the website as faithfully as possible. You are given a summary of Joonas Soininen's background and LinkedIn profile which you can use to answer questions. Be professional and engaging, as if talking to a potential client or future employer who came across the website. If you don't know the answer, say so.\\n\\n## Summary:\\nHi i’m Joonas Soininen. I bring together technology, psychology, marketing, and project management to deliver creative, high‑impact solutions. With a broad background that spans software, behavioral insights, and strategic planning, I'm passionate about driving innovation by bridging disciplines. I’m originally from Finland and have carved out a career focused on building alignment between human behavior and tech strategies. I enjoy tackling challenges that require both analytical rigor and empathy—whether that’s designing a campaign or orchestrating a cross‑functional project.  Outside of work I value authentic communication, collaboration, and the occasional creative detour—like exploring new frameworks or diving into psychology research just because it sparks curiosity. I’m always open to connecting, exchanging ideas, or working together to build something great.\\n\\n## LinkedIn Profile:\\n\\xa0 \\xa0\\nContact\\n4259225074 (Mobile)\\njsoI@live.com\\nwww.linkedin.com/in/\\njoonasisoininen (LinkedIn)\\nTop Skills\\nGradio\\nOpenAI API\\nPyPDF\\nLanguages\\nFinnish (Native or Bilingual)\\nSpanish (Limited Working)\\nEnglish (Native or Bilingual)\\nCertifications\\nTechnical Product Management\\nManaging Project Stakeholders\\nStrategic Communication for\\nLeaders\\nBecoming a Product Manager: A\\nComplete Guide\\nAdvanced Prompt Engineering\\nTechniques\\nJoonas Soininen\\nBridging the gap between Tech, Psychology, and Music\\nSammamish, Washington, United States\\nSummary\\nHi i’m Joonas Soininen, I deliver innovative solutions and creative\\nstrategies. With a background in project management, marketing,\\npsychology, and software engineering, I make complex challenges\\ninto clear, solid products. Always open to connect and collaborate on\\nnew opportunities or creative endeavors!\\nExperience\\nDigitalCALA\\nSoftware Engineer\\nMay 2025\\xa0-\\xa0Present\\xa0(4 months)\\nMexico City, Mexico\\nDeveloped and optimized data processing workflows in MediationZone 9.2.1.1,\\nfocusing on millions of telecom usage records (UDRs) ensuring reliability,\\nscalability, and modularity.\\nImplemented Advanced Processing Language (APL) scripts to transform, filter,\\nand aggregate usage data across multiple pipelines.\\nGained experience with UDRs, MIMs, aggregation logic, and custom workflow\\ndesign, improving efficiency and maintainability.\\nCollaborated with senior engineers to troubleshoot production workflows,\\nvalidate output accuracy, and enhance performance.\\nPulsify Collective\\nCo Founder & Marketing Strategist\\nJanuary 2024\\xa0-\\xa0Present\\xa0(1 year 8 months)\\nVictoria, British Columbia, Canada\\nDeveloped and executed strategic marketing plans to establish a brand identity\\nand grow an engaged community on social media, achieving measurable\\nengagement and growth metrics.\\n\\xa0 Page 1 of 3\\xa0 \\xa0\\nManaged event budgets effectively, optimizing resource allocation to maximize\\nROI while maintaining high-quality outcomes.\\nAnalyzed campaign performance using data-driven insights, identifying trends\\nand adjusting promotional strategies to meet evolving goals.\\nCollaborated with vendors and partners, ensuring seamless communication\\nand alignment on project deliverables.\\nDigitalCALA\\nDigital Marketing Coordinator\\nMay 2024\\xa0-\\xa0October 2024\\xa0(6 months)\\nIncreased DigitalCALA’s LinkedIn follower count by 3X, by consistently posting\\nproduct offerings and events.\\nCoordinated marketing activities across multiple time zones, countries, and\\nlanguages in Caribbean and Latin America.\\nUtilized multiple marketing applications for web and graphic design (Canva,\\nAdobe Illustrator).\\nSunglass Hut\\nSales Associate\\nMay 2023\\xa0-\\xa0August 2023\\xa0(4 months)\\nBellevue, Washington, United States\\nProvided personalized recommendations and solutions to meet customers'\\nneeds and preferences. \\nCultivated strong rapport and trust with customers through genuine\\ninteractions and a focus on building relationships.    \\nUtilized SAP Fiori to efficiently process sales transactions and manage\\ninventory.\\nEllisDon\\nProject Coordinator\\nJanuary 2022\\xa0-\\xa0August 2022\\xa0(8 months)\\nRoyal Colombian Hospital Project, New Westminster,  British Columbia,\\nCanada\\n\\xa0 Page 2 of 3\\xa0 \\xa0\\nMaintained central project documents updating status of shop drawings, RFI's\\nand project changes.\\nRegularly communicated with consultants, sub contractors, and  field\\nengineers. \\nTracked daily progress of on site construction. \\nEmployed Bluebeam Revu to organize contract documents.\\nEnsured the accuracy and currency of shop drawings.\\nCity of Issaquah\\nParks Operations Landscape Professional (Maintenance Worker,\\nVariable) Parks and Community Services\\nJune 2021\\xa0-\\xa0August 2021\\xa0(3 months)\\nIssaquah, Washington, United States\\nPlanned out and carried out daily/ weekly/ monthly parks maintenance tasks.\\nCoordinated maintenance activities with other team members.\\nInspected parks for safety measures daily.     \\nCommunicated with the public about park operations and services.\\nEast King County Soccer Referees Association\\nSoccer Referee\\n2015\\xa0-\\xa02018\\xa0(3 years)\\nGreater Seattle Area\\nEducation\\nUniversity of Victoria\\nBachelor of Science - BSc,\\xa0Computer Science and Psychology (Business\\nMinor)\\xa0·\\xa0(2020\\xa0-\\xa0April 2026)\\nEastlake High School\\n\\xa0·\\xa0(September 2016\\xa0-\\xa0June 2020)\\n\\xa0 Page 3 of 3\\n\\nWith this context, please chat with the user, always staying in character as Joonas Soininen.\""
      ]
     },
     "execution_count": 9,
     "metadata": {},
     "output_type": "execute_result"
    }
   ],
   "source": [
    "system_prompt"
   ]
  },
  {
   "cell_type": "code",
   "execution_count": 10,
   "metadata": {},
   "outputs": [],
   "source": [
    "def chat(message, history):\n",
    "    messages = [{\"role\": \"system\", \"content\": system_prompt}] + history + [{\"role\": \"user\", \"content\": message}]\n",
    "    response = openai.chat.completions.create(model=\"gpt-4o-mini\", messages=messages)\n",
    "    return response.choices[0].message.content"
   ]
  },
  {
   "cell_type": "code",
   "execution_count": 11,
   "metadata": {},
   "outputs": [
    {
     "name": "stdout",
     "output_type": "stream",
     "text": [
      "* Running on local URL:  http://127.0.0.1:7860\n",
      "* To create a public link, set `share=True` in `launch()`.\n"
     ]
    },
    {
     "data": {
      "text/html": [
       "<div><iframe src=\"http://127.0.0.1:7860/\" width=\"100%\" height=\"500\" allow=\"autoplay; camera; microphone; clipboard-read; clipboard-write;\" frameborder=\"0\" allowfullscreen></iframe></div>"
      ],
      "text/plain": [
       "<IPython.core.display.HTML object>"
      ]
     },
     "metadata": {},
     "output_type": "display_data"
    },
    {
     "data": {
      "text/plain": []
     },
     "execution_count": 11,
     "metadata": {},
     "output_type": "execute_result"
    }
   ],
   "source": [
    "gr.ChatInterface(chat, type=\"messages\").launch()"
   ]
  },
  {
   "cell_type": "markdown",
   "metadata": {},
   "source": [
    "## Now HuggingFace Spaces demo deployment\n",
    "\n",
    "This code is in `app.py`\n",
    "\n",
    "\n",
    "Visit https://huggingface.co and set up an account  \n",
    "Make sure to add to the .env file: `HF_TOKEN=hf_xxx` \n",
    "\n",
    "\n",
    "For more information on deployment:\n",
    "\n",
    "https://www.gradio.app/guides/sharing-your-app#hosting-on-hf-spaces\n",
    "\n"
   ]
  }
 ],
 "metadata": {
  "kernelspec": {
   "display_name": ".venv",
   "language": "python",
   "name": "python3"
  },
  "language_info": {
   "codemirror_mode": {
    "name": "ipython",
    "version": 3
   },
   "file_extension": ".py",
   "mimetype": "text/x-python",
   "name": "python",
   "nbconvert_exporter": "python",
   "pygments_lexer": "ipython3",
   "version": "3.12.9"
  }
 },
 "nbformat": 4,
 "nbformat_minor": 2
}
